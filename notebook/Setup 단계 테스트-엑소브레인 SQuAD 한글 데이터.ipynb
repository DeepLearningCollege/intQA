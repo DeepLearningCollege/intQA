{
 "cells": [
  {
   "cell_type": "markdown",
   "metadata": {},
   "source": [
    "## Setup 단계 분석"
   ]
  },
  {
   "cell_type": "markdown",
   "metadata": {},
   "source": [
    "(iqab-tf14) skcc-user:intQA parksurk$ python setup.py\n",
    "Already downloaded word vectors in directory downloads.\n",
    "Downloading file downloads/train-v2.0.json from url https://rajpurkar.github.io/SQuAD-explorer/dataset/train-v2.0.json\n",
    "Download progress: 100%\n",
    "Downloading file downloads/dev-v1.1.json from url https://rajpurkar.github.io/SQuAD-explorer/dataset/dev-v2.0.json\n",
    "Download progress: 100%\n",
    "Creating NumPy word embedding file and vocab files\n",
    "Vocab size: 2196017\n",
    "Processed 2196017 of 2196017 (100.000000 percent done)\n",
    "Creating word character data\n",
    "\n",
    "Finished creating vocabulary and embedding file\n",
    "Getting vocabulary\n",
    "Vocab size: 2196016\n",
    "Finished getting vocabulary\n",
    "Getting DEV dataset\n",
    "Reading data from file downloads/dev-v2.0.json\n",
    "Value 5927 of 11873 percent done 49.919986524046155\n",
    "Getting TRAIN dataset\n",
    "Reading data from file downloads/train-v2.0.json\n",
    "Value 86820 of 130319 percent done 66.621137362932556\n",
    "Num NER categories 21\n",
    "Num POS categories 18\n",
    "Saving TRAIN data\n",
    "Saving batch 0 / 1\n",
    "Saving question ids\n",
    "Saving question ids to SQuAD question ids dict\n",
    "Saving passage contexts to SQuAD question ids dict\n",
    "Saving span numpy arrays\n",
    "Saving context numpy arrays\n",
    "Saving question numpy arrays\n",
    "Saving additional feature numpy arrays\n",
    "Saving POS and NER tags\n",
    "Saving DEV data\n",
    "Saving batch 0 / 1\n",
    "Saving question ids\n",
    "Saving question ids to SQuAD question ids dict\n",
    "Saving passage contexts to SQuAD question ids dict\n",
    "Saving span numpy arrays\n",
    "Saving context numpy arrays\n",
    "Saving question numpy arrays\n",
    "Saving additional feature numpy arrays\n",
    "Saving POS and NER tags\n",
    "Finished creating training data!\n",
    "Vocab size: 2196016"
   ]
  }
 ],
 "metadata": {
  "kernelspec": {
   "display_name": "iqab-tf14",
   "language": "python",
   "name": "iqab-tf14"
  },
  "language_info": {
   "codemirror_mode": {
    "name": "ipython",
    "version": 3
   },
   "file_extension": ".py",
   "mimetype": "text/x-python",
   "name": "python",
   "nbconvert_exporter": "python",
   "pygments_lexer": "ipython3",
   "version": "3.5.5"
  }
 },
 "nbformat": 4,
 "nbformat_minor": 2
}
